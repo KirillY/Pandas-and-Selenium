{
 "cells": [
  {
   "cell_type": "code",
   "execution_count": null,
   "metadata": {
    "collapsed": true
   },
   "outputs": [],
   "source": [
    "import pandas\n",
    "import os\n",
    "# reassign the default working dir\n",
    "os.chdir('C:\\\\Users\\\\Cactus\\\\OneDrive\\\\Work\\\\_bestcompany') "
   ]
  },
  {
   "cell_type": "code",
   "execution_count": null,
   "metadata": {
    "collapsed": true
   },
   "outputs": [],
   "source": [
    "### Load templates (for future use) ###\n",
    "import json\n",
    "with open('Templates.json', 'r', encoding=\"utf-8\") as input_file:\n",
    "    data = json.loads(input_file.read())"
   ]
  },
  {
   "cell_type": "code",
   "execution_count": 62,
   "metadata": {
    "collapsed": false
   },
   "outputs": [
    {
     "data": {
      "text/plain": [
       "'Многопрофильный медицинский центр, коллектив клиники составляет более {Size} врачей различных специальностей. {}Проводится УЗИ сканирование, лабораторная диагностика.'"
      ]
     },
     "execution_count": 62,
     "metadata": {},
     "output_type": "execute_result"
    }
   ],
   "source": [
    "data['Adult']['Large']"
   ]
  },
  {
   "cell_type": "code",
   "execution_count": 52,
   "metadata": {
    "collapsed": false
   },
   "outputs": [],
   "source": [
    "# os.listdir()"
   ]
  },
  {
   "cell_type": "code",
   "execution_count": 233,
   "metadata": {
    "collapsed": false
   },
   "outputs": [],
   "source": [
    "# df = pandas.read_excel('ClinicsRussia.xlsx')\n",
    "df = pandas.read_excel('ClinicsRussia_excl_green.xlsx',converters={'Phone':str, 'P_size':str})"
   ]
  },
  {
   "cell_type": "code",
   "execution_count": 145,
   "metadata": {
    "collapsed": false
   },
   "outputs": [
    {
     "data": {
      "text/plain": [
       "(84, 33)"
      ]
     },
     "execution_count": 145,
     "metadata": {},
     "output_type": "execute_result"
    }
   ],
   "source": [
    "# number of rows and columns\n",
    "df.shape"
   ]
  },
  {
   "cell_type": "code",
   "execution_count": null,
   "metadata": {
    "collapsed": true
   },
   "outputs": [],
   "source": [
    "### Indexing: label based (=string based) or position based (int based) ###\n",
    "# dfi.set_index? # ask for help, dir equivalent"
   ]
  },
  {
   "cell_type": "code",
   "execution_count": 235,
   "metadata": {
    "collapsed": false
   },
   "outputs": [],
   "source": [
    "# update default index column - NOT in place operator, object needs to be reassigned\n",
    "dfi = df.set_index('Clinic_ID')\n",
    "dfi"
   ]
  },
  {
   "cell_type": "code",
   "execution_count": 2,
   "metadata": {
    "collapsed": false
   },
   "outputs": [],
   "source": [
    "# dfi = df.set_index('Название клиники')"
   ]
  },
  {
   "cell_type": "code",
   "execution_count": null,
   "metadata": {
    "collapsed": true
   },
   "outputs": [],
   "source": [
    "# '{}\\nРежим работы:\\n{}'.format(dfi.loc[238,'Description'], dfi.loc[238,'Working_HRS'])"
   ]
  },
  {
   "cell_type": "code",
   "execution_count": 149,
   "metadata": {
    "collapsed": false
   },
   "outputs": [],
   "source": [
    "# dfi.loc[238,'Phone']"
   ]
  },
  {
   "cell_type": "code",
   "execution_count": 1,
   "metadata": {
    "collapsed": false
   },
   "outputs": [],
   "source": [
    "# dfi.dtypes"
   ]
  },
  {
   "cell_type": "code",
   "execution_count": 239,
   "metadata": {
    "collapsed": false
   },
   "outputs": [
    {
     "data": {
      "text/plain": [
       "{'address': 'ул.Гагарина д.12',\n",
       " 'city': 'Ярославль',\n",
       " 'clinic_form': '//*[@id=\"clinic_form\"]',\n",
       " 'description': 'Крупный многопрофильный стационар на 400 коек.\\nРежим работы:\\nПн-Пт: с 8:00 до 20:00\\nСб: с 8:00 до 18:00 (терапевтическая служба, врачи-специалисты - по графику)\\nВс: с 9:00 до 13:00 (терапевтическая служба)',\n",
       " 'phone': '+74852442747',\n",
       " 'title': 'Клиническая больница №10',\n",
       " 'working_hrs_close': '18:00',\n",
       " 'working_hrs_open': '9:00'}"
      ]
     },
     "execution_count": 239,
     "metadata": {},
     "output_type": "execute_result"
    }
   ],
   "source": [
    "### check data from table ###\n",
    "id = 239\n",
    "cdc = {\n",
    "    'title':dfi.loc[id,'Название клиники'],\n",
    "    'city':dfi.loc[id,'Город'],\n",
    "    'working_hrs_open':'9:00',\n",
    "    'working_hrs_close':'18:00',\n",
    "    'description':'{desc}\\nРежим работы:\\n{hrs}'.format(desc=dfi.loc[id,'Description'].format(Size=dfi.loc[id,'P_size']), hrs=dfi.loc[id,'Working_HRS']),\n",
    "    'phone':dfi.loc[id,'Phone'],\n",
    "    'address':dfi.loc[id,'Address'],\n",
    "    'clinic_form':'//*[@id=\"clinic_form\"]'\n",
    "} # = content dictionary clinic\n",
    "cdc"
   ]
  },
  {
   "cell_type": "code",
   "execution_count": 165,
   "metadata": {
    "collapsed": true
   },
   "outputs": [],
   "source": [
    "### Run webdriver ###\n",
    "from selenium import webdriver\n",
    "from selenium.webdriver.common.keys import Keys\n",
    "import json\n",
    "### Login admin page ###\n",
    "xda = {\n",
    "    # 'login_btn':'//*[@id=\"login\"]',\n",
    "    'login_form':'//*[@id=\"id_username\"]',\n",
    "    'pass_form':'//*[@id=\"id_password\"]',\n",
    "    'submit_btn':'//*[@id=\"grp-content-container\"]/div/form/div/ul/li/input'\n",
    "    }\n",
    "driver = webdriver.Chrome()\n",
    "# driver.get(\"https://www.bestcompany.ru/admin/\")\n",
    "driver.get(\"http://52.174.34.2/admin\")"
   ]
  },
  {
   "cell_type": "code",
   "execution_count": 166,
   "metadata": {
    "collapsed": true
   },
   "outputs": [],
   "source": [
    "### Log in ### \n",
    "driver.find_element_by_xpath(xda['login_form']).send_keys(\"lapshin@bestcompany.ru\")\n",
    "# driver.find_element_by_xpath(xda['login_form']).send_keys(\"test@bestcompany.ru\")\n",
    "driver.find_element_by_xpath(xda['pass_form']).send_keys(\"vfr4mju7\")\n",
    "# driver.find_element_by_xpath(xda['pass_form']).send_keys(\"testingshit\")\n",
    "driver.find_element_by_xpath(xda['pass_form']).submit()"
   ]
  },
  {
   "cell_type": "code",
   "execution_count": 244,
   "metadata": {
    "collapsed": true
   },
   "outputs": [],
   "source": [
    "### Create Xpath dict for clinic page ###\n",
    "xdc = { \n",
    "    'title':'//*[@id=\"id_title\"]',\n",
    "    'city':'//*[@id=\"id_city\"]',\n",
    "    'working_hrs_open':'//*[@id=\"id_from_time\"]',\n",
    "    'working_hrs_close':'//*[@id=\"id_to_time\"]',\n",
    "    'description':'//*[@id=\"tinymce\"]',\n",
    "    'phone':'//*[@id=\"id_phone\"]',\n",
    "    'address':'//*[@id=\"id_real_address\"]',\n",
    "    'booking_email':'//*[@id=\"id_booking_email\"]'\n",
    "#     'clinic_form':'//*[@id=\"clinic_form\"]'\n",
    "    }"
   ]
  },
  {
   "cell_type": "code",
   "execution_count": null,
   "metadata": {
    "collapsed": true
   },
   "outputs": [],
   "source": [
    "# TEST Extract fields from dataframe and admin page for recording\n",
    "# cdc = content dictionary clinic\n",
    "id = 225\n",
    "cdc = {\n",
    "    'title':dfi.loc[id,'Название клиники'],\n",
    "    'city':dfi.loc[id,'Город'],\n",
    "    'working_hrs_open':'9:00',\n",
    "    'working_hrs_close':'18:00',\n",
    "    'description':'{desc}\\nРежим работы:\\n{hrs}'.format(desc=dfi.loc[id,'Description'].format(Size=dfi.loc[id,'P_size']), hrs=dfi.loc[id,'Working_HRS']),\n",
    "    'phone':dfi.loc[id,'Phone'],\n",
    "    'address':dfi.loc[id,'Address'],\n",
    "    'booking_email':driver.find_element_by_xpath(xdc['booking_email']).text\n",
    "#     'clinic_form':'//*[@id=\"clinic_form\"]'\n",
    "    } # = content dictionary clinic\n",
    "cdc['booking_email'] = '\\n'.join([x for x in cdc['booking_email'].splitlines() if x.strip()])"
   ]
  },
  {
   "cell_type": "code",
   "execution_count": 3,
   "metadata": {
    "collapsed": false
   },
   "outputs": [],
   "source": [
    "### TEST getting rid of /n/n in the booking_email field\n",
    "# driver.find_element_by_xpath(xdc['booking_email']).text.splitlines()\n",
    "# driver.find_element_by_xpath(xdc['booking_email']).text\n",
    "# 'mikhail@bestcompany.ru\\n\\nphilipp@bestcompany.ru'.splitlines()\n",
    "'\\n'.join([x for x in 'mikhail@bestcompany.ru\\n\\nphilipp@bestcompany.ru'.splitlines() if x.strip()])"
   ]
  },
  {
   "cell_type": "code",
   "execution_count": null,
   "metadata": {
    "collapsed": true
   },
   "outputs": [],
   "source": [
    "### TEST write into db ###\n",
    "id = 225\n",
    "driver.get('http://52.174.34.2/admin/booking/clinic/{}/change/'.format(id)) # test server\n",
    "for k,v in xdc.items(): # iterate over clinic fields\n",
    "    if k == 'description': # if form is iframe\n",
    "        driver.switch_to.frame(driver.find_element_by_xpath('//*[@id=\"id_info_ifr\"]'))  ### first switching to iframe\n",
    "        driver.find_element_by_xpath(xdc[k]).clear() # clear the form\n",
    "        driver.find_element_by_xpath(xdc[k]).send_keys(cdc[k]) # key from x-path dic is the same as the key from content dic\n",
    "        driver.switch_to.default_content()  ### switch to default content\n",
    "    else:\n",
    "        driver.find_element_by_xpath(xdc[k]).clear()\n",
    "        driver.find_element_by_xpath(xdc[k]).send_keys(cdc[k])\n",
    "driver.find_element_by_xpath('//*[@id=\"clinic_form\"]').submit()"
   ]
  },
  {
   "cell_type": "code",
   "execution_count": null,
   "metadata": {
    "collapsed": true
   },
   "outputs": [],
   "source": [
    "#label based indexing\n",
    "# df_sadko = dfi.loc[\"Садко на Академика Сахарова\":\"Садко на Школьной\", \"HO_M-F\":\"HC_WE\"]\n",
    "# df_sadko"
   ]
  },
  {
   "cell_type": "code",
   "execution_count": 257,
   "metadata": {
    "collapsed": false
   },
   "outputs": [],
   "source": [
    "# Create ID list \n",
    "clinicIDlist = list(df.loc[:, 'Clinic_ID'])\n",
    "# df.Clinic_ID.tolist() # alternative option"
   ]
  },
  {
   "cell_type": "code",
   "execution_count": 258,
   "metadata": {
    "collapsed": false
   },
   "outputs": [
    {
     "data": {
      "text/plain": [
       "[238,\n",
       " 225,\n",
       " 229,\n",
       " 236,\n",
       " 228,\n",
       " 235,\n",
       " 237,\n",
       " 226,\n",
       " 233,\n",
       " 230,\n",
       " 227,\n",
       " 234,\n",
       " 232,\n",
       " 239,\n",
       " 266,\n",
       " 264,\n",
       " 265,\n",
       " 269,\n",
       " 268,\n",
       " 267,\n",
       " 245,\n",
       " 243,\n",
       " 244,\n",
       " 248,\n",
       " 249,\n",
       " 250]"
      ]
     },
     "execution_count": 258,
     "metadata": {},
     "output_type": "execute_result"
    }
   ],
   "source": [
    "clinicIDlist"
   ]
  },
  {
   "cell_type": "code",
   "execution_count": 259,
   "metadata": {
    "collapsed": false
   },
   "outputs": [],
   "source": [
    "# Write into a DataBase\n",
    "for id in clinicIDlist:\n",
    "    #     driver.get('https://www.bestcompany.ru/admin/booking/clinic/{}/change/'.format(id)) # run main server\n",
    "    driver.get('http://52.174.34.2/admin/booking/clinic/{}/change/'.format(id)) # run test server\n",
    "    cdc = {\n",
    "    'title':dfi.loc[id,'Название клиники'],\n",
    "    'city':dfi.loc[id,'Город'],\n",
    "    'working_hrs_open':'9:00',\n",
    "    'working_hrs_close':'18:00',\n",
    "    'description':'{desc}\\nРежим работы:\\n{hrs}'.format(desc=dfi.loc[id,'Description'].format(Size=dfi.loc[id,'P_size']), hrs=dfi.loc[id,'Working_HRS']),\n",
    "    'phone':dfi.loc[id,'Phone'],\n",
    "    'address':dfi.loc[id,'Address'],\n",
    "    'booking_email':driver.find_element_by_xpath(xdc['booking_email']).text\n",
    "#     'clinic_form':'//*[@id=\"clinic_form\"]'\n",
    "    } \n",
    "    cdc['booking_email'] = '\\n'.join([x for x in cdc['booking_email'].splitlines() if x.strip()]) # get rig of excessive line breakes\n",
    "    for k,v in xdc.items(): # iterate over clinic fields\n",
    "        if k == 'description': # if form is iframe\n",
    "            driver.switch_to.frame(driver.find_element_by_xpath('//*[@id=\"id_info_ifr\"]'))  ### first switching to iframe\n",
    "            driver.find_element_by_xpath(xdc[k]).clear() # clear the form\n",
    "            driver.find_element_by_xpath(xdc[k]).send_keys(cdc[k]) # key from x-path dic is the same as the key from content dic\n",
    "            driver.switch_to.default_content()  ### switch to default content\n",
    "        else:\n",
    "            driver.find_element_by_xpath(xdc[k]).clear()\n",
    "            driver.find_element_by_xpath(xdc[k]).send_keys(cdc[k])\n",
    "    driver.find_element_by_xpath('//*[@id=\"clinic_form\"]').submit()"
   ]
  }
 ],
 "metadata": {
  "kernelspec": {
   "display_name": "Python 3",
   "language": "python",
   "name": "python3"
  },
  "language_info": {
   "codemirror_mode": {
    "name": "ipython",
    "version": 3
   },
   "file_extension": ".py",
   "mimetype": "text/x-python",
   "name": "python",
   "nbconvert_exporter": "python",
   "pygments_lexer": "ipython3",
   "version": "3.6.1"
  }
 },
 "nbformat": 4,
 "nbformat_minor": 2
}
